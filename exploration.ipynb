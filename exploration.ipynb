{
 "cells": [
  {
   "cell_type": "markdown",
   "metadata": {},
   "source": [
    "# Heart Disease Prediction Model - Exploratory Analysis #\n",
    "## Author: Madison Little ##\n",
    "## Date: Sep. 4, 2024 ##\n",
    "\n",
    "This initial report explores the data's quality, completeness, and distribution."
   ]
  },
  {
   "cell_type": "code",
   "execution_count": null,
   "metadata": {},
   "outputs": [],
   "source": [
    "import pandas as pd\n",
    "import numpy as np\n",
    "import matplotlib.pyplot as plt\n",
    "import seaborn as sns\n",
    "import plotly.express as px\n",
    "from charts import categorical_ct\n",
    "from charts import grouped_categorical_ct"
   ]
  },
  {
   "cell_type": "markdown",
   "metadata": {},
   "source": [
    "The following two defined functions are used throughout the report to create similar charts for each of the categorical values.\n",
    "I defined them in this notebook so I would not have to read the categorical_mapping.json file each time the function is called or pass the json data as a parameter to the function.  This way, the functions can access the mapping as a global variable."
   ]
  },
  {
   "cell_type": "code",
   "execution_count": null,
   "metadata": {},
   "outputs": [],
   "source": [
    "df = pd.read_csv('data/heart_disease_prediction.csv')\n",
    "df.head()"
   ]
  },
  {
   "cell_type": "code",
   "execution_count": null,
   "metadata": {},
   "outputs": [],
   "source": [
    "print(f\"Features: {len(df.columns)}\")\n",
    "print(f\"Observations: {len(df)}\")"
   ]
  },
  {
   "cell_type": "code",
   "execution_count": null,
   "metadata": {},
   "outputs": [],
   "source": [
    "df.describe(include='all')"
   ]
  },
  {
   "cell_type": "markdown",
   "metadata": {},
   "source": [
    "## Observations ##\n",
    "Patient ages range from 28 to 77, with a mean of about 53 years.\n",
    "\n",
    "It appears that RestingBP and Cholesterol have missing values, as their minimums are 0.0--a value that does not make sense for those measurements.\n",
    "\n",
    "MaxHR is more ambiguous.  There is a minimum value of 60BPM, but the lower quartile is 120BPM. This may mean that 60 is a placeholder value for unrecorded heartrate. If these heartrates were achieved during exercise, it is unlikley that 60BPM was a recorded value.\n",
    "\n",
    "The cholesterol column has a max value of 603, which is 2.5 times larger than what is considered \"high\" cholesterol.  Based on the IQR, this is an extreme outlier.  According to the American Heart Association, such a cholesterol level is caused by a rare genetic disease called familial hypercholesterolemia.\n"
   ]
  },
  {
   "cell_type": "code",
   "execution_count": null,
   "metadata": {},
   "outputs": [],
   "source": [
    "fig = categorical_ct(df, 'Sex')\n",
    "fig.update_layout(\n",
    "    title=\"Sex of Patients\",\n",
    "    xaxis_title=\"Sex\",\n",
    "    yaxis_title=\"Count of Patients\")\n"
   ]
  },
  {
   "cell_type": "markdown",
   "metadata": {},
   "source": [
    "There are more male patients represented in the data than female patients (~80% men)"
   ]
  },
  {
   "cell_type": "code",
   "execution_count": null,
   "metadata": {},
   "outputs": [],
   "source": [
    "fig = categorical_ct(df, 'ChestPainType')\n",
    "fig.update_layout(\n",
    "    title=\"Type of Patient Chest Pain\",\n",
    "    xaxis_title=\"Chest Pain Type\",\n",
    "    yaxis_title=\"Count of Patients\")"
   ]
  },
  {
   "cell_type": "markdown",
   "metadata": {},
   "source": [
    "Asymptomatic chest pain (meaning no chest pain) is the most common in the data."
   ]
  },
  {
   "cell_type": "code",
   "execution_count": null,
   "metadata": {},
   "outputs": [],
   "source": [
    "fig = categorical_ct(df, 'HeartDisease')\n",
    "fig.update_layout(\n",
    "    title=\"Heart Disease Cases\",\n",
    "    xaxis_title=\"Test Result\",\n",
    "    yaxis_title=\"Count of Patients\")"
   ]
  },
  {
   "cell_type": "markdown",
   "metadata": {},
   "source": [
    "The dataset is pretty evenly split between patients with heart disease and those without heart disease. This means we have ample data for both classes, and we should be able to classify a test patient into one of the two categories. "
   ]
  },
  {
   "cell_type": "code",
   "execution_count": null,
   "metadata": {},
   "outputs": [],
   "source": [
    "fig = categorical_ct(df, 'FastingBS')\n",
    "fig.update_layout(\n",
    "    title=\"Patient Blood Sugar Levels\",\n",
    "    xaxis_title=\"Blod Sugar Range\",\n",
    "    yaxis_title=\"Count of Patients\")"
   ]
  },
  {
   "cell_type": "markdown",
   "metadata": {},
   "source": [
    "The data is already split into categorical blood sugar ranges--above or below 120mg/dl.  A quick search revealed that the normal range is under 120mg/dl.  Most patients in the data are therefore non-diabetic."
   ]
  },
  {
   "cell_type": "code",
   "execution_count": null,
   "metadata": {},
   "outputs": [],
   "source": [
    "\n",
    "fig = categorical_ct(df, 'RestingECG')\n",
    "fig.update_layout(\n",
    "    title='Patient Resting Electrocardiogram Results',\n",
    "    xaxis_title=\"Test Result\",\n",
    "    yaxis_title=\"Count of Patients\")"
   ]
  },
  {
   "cell_type": "markdown",
   "metadata": {},
   "source": [
    "Most patients have a \"normal\" ECG test result. There are two categories that are therefore \"abnormal\".  If we combine the two abnormal groups, then we have a much closer split between normal and abnormal ECG readings."
   ]
  },
  {
   "cell_type": "code",
   "execution_count": null,
   "metadata": {},
   "outputs": [],
   "source": [
    "\n",
    "fig = categorical_ct(df, 'ExerciseAngina')\n",
    "fig.update_layout(\n",
    "    title='Presense of Exercise-Induced Angina',\n",
    "    xaxis_title=\"Angina Present?\",\n",
    "    yaxis_title=\"Count of Patients\")\n"
   ]
  },
  {
   "cell_type": "markdown",
   "metadata": {},
   "source": [
    "Most patients do not experience angina after exercise, but the split is very close.  It is unclear how this metric relates to the \"ChestPainType\" data, where "
   ]
  },
  {
   "cell_type": "code",
   "execution_count": null,
   "metadata": {},
   "outputs": [],
   "source": [
    "fig = categorical_ct(df, 'ST_Slope')\n",
    "fig.update_layout(\n",
    "    title='Patients\\' ECG ST-Segment Slope',\n",
    "    xaxis_title=\"Test Result\",\n",
    "    yaxis_title=\"Count of Patients\")"
   ]
  },
  {
   "cell_type": "code",
   "execution_count": null,
   "metadata": {},
   "outputs": [],
   "source": [
    "fig = grouped_categorical_ct(df, grouper='Sex', counter='HeartDisease', colors=['red', 'green'])\n",
    "fig.update_layout(\n",
    "    title='Heart Disease in Patients by Sex',\n",
    "    xaxis_title=\"Sex\",\n",
    "    yaxis_title=\"Count of Patients\",\n",
    "    legend_title=\"Heart Disease Result\")\n"
   ]
  },
  {
   "cell_type": "code",
   "execution_count": null,
   "metadata": {},
   "outputs": [],
   "source": [
    "fig = grouped_categorical_ct(df, grouper='ChestPainType', counter='HeartDisease', colors=['red', 'green'])\n",
    "fig.update_layout(\n",
    "    title='Presense of Heart Disease By Chest Pain Type',\n",
    "    xaxis_title=\"Chest Pain Type\",\n",
    "    yaxis_title=\"Count of Patients\",\n",
    "    legend_title=\"Heart Disease Result\")"
   ]
  },
  {
   "cell_type": "markdown",
   "metadata": {},
   "source": [
    "77% of all heart disease cases had no chest pain symptoms. Strangely, more healthy patients reported chest pain than patients with heart disease.  Non-anginal pain was the most common type of chest pain reported by patients with heart disease.  The most common pain reported by healthy patients was atypical angina. Typical angina was the least reported chest pain type overall, with almost equal numbers of healthy and heart disease patients."
   ]
  },
  {
   "cell_type": "code",
   "execution_count": null,
   "metadata": {},
   "outputs": [],
   "source": [
    "fig = grouped_categorical_ct(df, grouper='FastingBS', counter='HeartDisease', colors=['red', 'green'])\n",
    "fig.update_layout(\n",
    "    title='Heart Disease in Patients by Blood Sugar Level',\n",
    "    xaxis_title=\"Blood Sugar Range\",\n",
    "    yaxis_title=\"Count of Patients\",\n",
    "    legend_title=\"Heart Disease Result\")"
   ]
  },
  {
   "cell_type": "markdown",
   "metadata": {},
   "source": [
    "Non-diabetic patients are more common than diabetic patients overall.  Among non-diabetic patients, there are about the same number of patients with and without heart disease.  However, there is much larger portion of diabetic patients that also have heart disease.  While the absense of diabetes does not imply the absense of heart disease, the presense of diabetes is a strong indicator of heart disease."
   ]
  },
  {
   "cell_type": "code",
   "execution_count": null,
   "metadata": {},
   "outputs": [],
   "source": [
    "fig = grouped_categorical_ct(df, grouper='RestingECG', counter='HeartDisease', colors=['red', 'green'])\n",
    "fig.update_layout(\n",
    "    title='Heart Disease in Patients by ECG Result',\n",
    "    xaxis_title=\"ECG Reading\",\n",
    "    yaxis_title=\"Count of Patients\",\n",
    "    legend_title=\"Heart Disease Result\")"
   ]
  },
  {
   "cell_type": "markdown",
   "metadata": {},
   "source": [
    "There are fairly similar distributions of healthy and heart disease patients across the ECG reading categories.  The ST-T wave abnormality group has the most drastic difference in frequency.  It is more common for a person with heart disease to display an ST-T wave abnormality than a healthy patient, which could indicate another symptom or risk factor for heart disease."
   ]
  },
  {
   "cell_type": "code",
   "execution_count": null,
   "metadata": {},
   "outputs": [],
   "source": [
    "fig = grouped_categorical_ct(df, grouper='ExerciseAngina', counter='HeartDisease', colors=['red', 'green'])\n",
    "fig.update_layout(\n",
    "    title='Exercise-Induced Angina and Heart Disease',\n",
    "    xaxis_title=\"Angina Induced by Exercise?\",\n",
    "    yaxis_title=\"Count of Patients\",\n",
    "    legend_title=\"Heart Disease Result\")"
   ]
  },
  {
   "cell_type": "markdown",
   "metadata": {},
   "source": [
    "Most patients that have heart disease experience exercised-induced angina, and very few healthy patients display this symptom.  This may be a good feature to use in our predictive model. It is important to note that there is still a significant portion of patients with heart disease that do not experience angina after exercising (false negative risk)."
   ]
  },
  {
   "cell_type": "code",
   "execution_count": null,
   "metadata": {},
   "outputs": [],
   "source": [
    "fig = grouped_categorical_ct(df, grouper='ST_Slope', counter='HeartDisease', colors=['red', 'green'])\n",
    "fig.update_layout(\n",
    "    title='Heart Disease in Patients by ST-Segment Slope',\n",
    "    xaxis_title=\"ST-Segment Slope\",\n",
    "    yaxis_title=\"Count of Patients\",\n",
    "    legend_title=\"Heart Disease Result\")"
   ]
  },
  {
   "cell_type": "markdown",
   "metadata": {},
   "source": [
    "After researching this measurement, I found that an upward slope of the ST-segment of an ECG reading is considered normal.  Downward or horizontal (flat) slopes are considered ST-segment depressions."
   ]
  },
  {
   "cell_type": "markdown",
   "metadata": {},
   "source": [
    "A large majority of those with heart disease display a flat ST-segment slope, while most healthy patients display a normal upward slope.  There are fewer patients overall that display a downward slope, but this is more common among those with heart disease rather than healthy individuals. Some healthy patients display a flat ST-segment slope. This could be an indicator that the patient is at risk of heart disease given that the upslope is more common among healthy individuals. More grouping analysis is needed for this metric, but it could make another strong feature for my model."
   ]
  },
  {
   "cell_type": "code",
   "execution_count": null,
   "metadata": {},
   "outputs": [],
   "source": [
    "# Cleaning the values that don't make sense: RestingBP and Cholesterol\n",
    "df[df['RestingBP']==0]"
   ]
  },
  {
   "cell_type": "markdown",
   "metadata": {},
   "source": [
    "Only one patient has a recorded resting BP of 0, so we will remove that record."
   ]
  },
  {
   "cell_type": "code",
   "execution_count": null,
   "metadata": {},
   "outputs": [],
   "source": [
    "df = df[df['RestingBP'] != 0]"
   ]
  },
  {
   "cell_type": "code",
   "execution_count": null,
   "metadata": {},
   "outputs": [],
   "source": [
    "df[df['Cholesterol']==0]"
   ]
  },
  {
   "cell_type": "markdown",
   "metadata": {},
   "source": [
    "There are significantly more patients without a cholesterol reading.  We will fill these values with the median of the patient's sex, age group, and heart disease status."
   ]
  },
  {
   "cell_type": "code",
   "execution_count": null,
   "metadata": {},
   "outputs": [],
   "source": [
    "age_bins = list(range(0, 100, 5))\n",
    "df['AgeRange'] = pd.cut(df['Age'], bins=age_bins)\n",
    "df_reduced = df[df['Cholesterol']!=0]\n",
    "medians = df_reduced.groupby(['Sex', 'AgeRange', 'HeartDisease'], observed=True).agg(MedCholesterol=('Cholesterol', 'median'))\n",
    "df = df.merge(medians, how='left', on=['Sex', 'AgeRange', 'HeartDisease'])\n",
    "df['Cholesterol'] = np.where(df['Cholesterol'] == 0, df['MedCholesterol'], df['Cholesterol'])\n",
    "df.drop(columns=['MedCholesterol'])\n"
   ]
  }
 ],
 "metadata": {
  "kernelspec": {
   "display_name": "Python 3 (ipykernel)",
   "language": "python",
   "name": "python3"
  },
  "language_info": {
   "codemirror_mode": {
    "name": "ipython",
    "version": 3
   },
   "file_extension": ".py",
   "mimetype": "text/x-python",
   "name": "python",
   "nbconvert_exporter": "python",
   "pygments_lexer": "ipython3",
   "version": "3.12.6"
  }
 },
 "nbformat": 4,
 "nbformat_minor": 4
}
